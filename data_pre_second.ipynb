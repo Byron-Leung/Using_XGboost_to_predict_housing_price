{
 "cells": [
  {
   "cell_type": "code",
   "execution_count": 1,
   "metadata": {},
   "outputs": [],
   "source": [
    "import pandas as pd"
   ]
  },
  {
   "cell_type": "code",
   "execution_count": 2,
   "metadata": {},
   "outputs": [],
   "source": [
    "# import os\n",
    "# import tarfile\n",
    "# from google.colab import drive\n",
    "# drive.mount('/content/gdrive/')"
   ]
  },
  {
   "cell_type": "code",
   "execution_count": 3,
   "metadata": {},
   "outputs": [
    {
     "name": "stderr",
     "output_type": "stream",
     "text": [
      "/Users/byronleung/opt/anaconda3/lib/python3.7/site-packages/IPython/core/interactiveshell.py:3063: DtypeWarning: Columns (40,43,45,46,86) have mixed types.Specify dtype option on import or set low_memory=False.\n",
      "  interactivity=interactivity, compiler=compiler, result=result)\n"
     ]
    }
   ],
   "source": [
    "Xtrain = pd.read_csv('Xtrain.csv')\n",
    "Xtest = pd.read_csv('Xtest.csv')\n",
    "Ytrain = pd.read_csv('Ytrain.csv')\n",
    "Ytest = pd.read_csv('Ytest.csv')"
   ]
  },
  {
   "cell_type": "code",
   "execution_count": 4,
   "metadata": {},
   "outputs": [
    {
     "data": {
      "text/plain": [
       "['price_range',\n",
       " 'sale_date',\n",
       " 'address',\n",
       " 'neighborhood',\n",
       " 'building_class_at_sale',\n",
       " 'building_class',\n",
       " 'FireComp',\n",
       " 'tax_class']"
      ]
     },
     "execution_count": 4,
     "metadata": {},
     "output_type": "execute_result"
    }
   ],
   "source": [
    "obj = pd.DataFrame(Xtrain.dtypes == 'object')\n",
    "objlist = obj[obj[0] == True].index.tolist()\n",
    "objlist"
   ]
  },
  {
   "cell_type": "code",
   "execution_count": 5,
   "metadata": {},
   "outputs": [],
   "source": [
    "Xtest = Xtest[Xtrain.columns.tolist()]"
   ]
  },
  {
   "cell_type": "code",
   "execution_count": 6,
   "metadata": {},
   "outputs": [
    {
     "data": {
      "text/plain": [
       "(49222, 49)"
      ]
     },
     "execution_count": 6,
     "metadata": {},
     "output_type": "execute_result"
    }
   ],
   "source": [
    "from sklearn.preprocessing import OrdinalEncoder \n",
    "oe = OrdinalEncoder()\n",
    "oe = oe.fit(Xtrain.loc[:,objlist])\n",
    "oe1 = OrdinalEncoder()\n",
    "oe1 = oe1.fit(Xtest.loc[:,objlist])\n",
    "Xtrain.loc[:,objlist] = oe.transform(Xtrain.loc[:,objlist])\n",
    "Xtest.loc[:,objlist] = oe1.transform(Xtest.loc[:,objlist])\n",
    "Xtest.shape"
   ]
  },
  {
   "cell_type": "code",
   "execution_count": 7,
   "metadata": {},
   "outputs": [],
   "source": [
    "Xtrain.to_csv('Xtrain1.csv')\n",
    "Xtest.to_csv('Xtest1.csv')"
   ]
  },
  {
   "cell_type": "code",
   "execution_count": null,
   "metadata": {},
   "outputs": [],
   "source": []
  }
 ],
 "metadata": {
  "kernelspec": {
   "display_name": "Python 3",
   "language": "python",
   "name": "python3"
  },
  "language_info": {
   "codemirror_mode": {
    "name": "ipython",
    "version": 3
   },
   "file_extension": ".py",
   "mimetype": "text/x-python",
   "name": "python",
   "nbconvert_exporter": "python",
   "pygments_lexer": "ipython3",
   "version": "3.7.4"
  }
 },
 "nbformat": 4,
 "nbformat_minor": 4
}
