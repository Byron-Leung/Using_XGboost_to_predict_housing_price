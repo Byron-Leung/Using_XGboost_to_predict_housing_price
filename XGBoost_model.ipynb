{
  "nbformat": 4,
  "nbformat_minor": 0,
  "metadata": {
    "colab": {
      "name": "XGBoost_model.ipynb",
      "provenance": [],
      "collapsed_sections": [],
      "authorship_tag": "ABX9TyO3LwyG3LgYORqEp/fDEZN3",
      "include_colab_link": true
    },
    "kernelspec": {
      "name": "python3",
      "display_name": "Python 3"
    },
    "accelerator": "GPU"
  },
  "cells": [
    {
      "cell_type": "markdown",
      "metadata": {
        "id": "view-in-github",
        "colab_type": "text"
      },
      "source": [
        "<a href=\"https://colab.research.google.com/github/Byron-Leung/Using_XGboost_to_predict_housing_price/blob/master/XGBoost_model.ipynb\" target=\"_parent\"><img src=\"https://colab.research.google.com/assets/colab-badge.svg\" alt=\"Open In Colab\"/></a>"
      ]
    },
    {
      "cell_type": "code",
      "metadata": {
        "id": "5PvwOJsjVkTU",
        "colab_type": "code",
        "colab": {}
      },
      "source": [
        "import pandas as pd\n",
        "import numpy as np\n",
        "import matplotlib.pyplot as plt\n",
        "import seaborn as sns\n",
        "from xgboost import XGBRegressor\n",
        "from xgboost import DMatrix\n",
        "import xgboost \n",
        "from sklearn.metrics import accuracy_score"
      ],
      "execution_count": 108,
      "outputs": []
    },
    {
      "cell_type": "code",
      "metadata": {
        "id": "gtpDZ6MFWLos",
        "colab_type": "code",
        "colab": {
          "base_uri": "https://localhost:8080/",
          "height": 34
        },
        "outputId": "5b601863-4ebb-4296-e52f-c4af0f6327ae"
      },
      "source": [
        "import os\n",
        "import tarfile\n",
        "from google.colab import drive\n",
        "drive.mount('/content/gdrive/')"
      ],
      "execution_count": 109,
      "outputs": [
        {
          "output_type": "stream",
          "text": [
            "Drive already mounted at /content/gdrive/; to attempt to forcibly remount, call drive.mount(\"/content/gdrive/\", force_remount=True).\n"
          ],
          "name": "stdout"
        }
      ]
    },
    {
      "cell_type": "code",
      "metadata": {
        "id": "4lPTUJzRhAuQ",
        "colab_type": "code",
        "colab": {}
      },
      "source": [
        "Xtrain = pd.read_csv('gdrive/My Drive/毕业设计/Xtrain1.csv')\n",
        "Xtest = pd.read_csv('gdrive/My Drive/毕业设计/Xtest1.csv')\n",
        "Ytrain = pd.read_csv('gdrive/My Drive/毕业设计/Ytrain.csv')\n",
        "Ytest = pd.read_csv('gdrive/My Drive/毕业设计/Ytest.csv')"
      ],
      "execution_count": 110,
      "outputs": []
    },
    {
      "cell_type": "code",
      "metadata": {
        "id": "nwdrozhVU-Y3",
        "colab_type": "code",
        "colab": {}
      },
      "source": [
        "Ytest = Ytest['sale_price']\n",
        "Ytrain = Ytrain['sale_price']\n",
        "Xtrain = Xtrain.drop(['Unnamed: 0','Unnamed: 0.1'],axis = 1)\n",
        "Xtest = Xtest.drop(['Unnamed: 0','Unnamed: 0.1'],axis = 1)"
      ],
      "execution_count": 111,
      "outputs": []
    },
    {
      "cell_type": "code",
      "metadata": {
        "id": "bMM92gTxj7Th",
        "colab_type": "code",
        "colab": {}
      },
      "source": [
        "# from sklearn.preprocessing import StandardScaler \n",
        "# ss = StandardScaler()\n",
        "# ss = ss.fit(Xtrain)\n",
        "# Xtrain = ss.transform(Xtrain)\n",
        "# ss1 = StandardScaler()\n",
        "# ss1 = ss1.fit(Xtest)\n",
        "# Xtest = ss.transform(Xtest)"
      ],
      "execution_count": 112,
      "outputs": []
    },
    {
      "cell_type": "code",
      "metadata": {
        "id": "r2vyo9YEFIHd",
        "colab_type": "code",
        "colab": {}
      },
      "source": [
        "#使用类DMatrix读取数据\n",
        "dtrain = xgboost.DMatrix(Xtrain,Ytrain) #特征矩阵和标签都进行一个传入\n",
        "# dtest = xgboost.DMatrix(Xtest)\n",
        "dtest = xgboost.DMatrix(Xtest,Ytest)"
      ],
      "execution_count": 125,
      "outputs": []
    },
    {
      "cell_type": "code",
      "metadata": {
        "id": "KSgWvUyjX_Ig",
        "colab_type": "code",
        "colab": {}
      },
      "source": [
        "params = {\n",
        "    'learning_rate': 0.1, 'n_estimators': 1000, 'max_depth': 5, 'min_child_weight': 1, 'seed': 0,\n",
        "                    'subsample': 0.8, 'colsample_bytree': 0.8, 'gamma': 0, 'reg_alpha': 0, 'reg_lambda': 1\n",
        "}\n",
        "num_rounds = 500"
      ],
      "execution_count": 127,
      "outputs": []
    },
    {
      "cell_type": "code",
      "metadata": {
        "id": "-t8WOebDWp5a",
        "colab_type": "code",
        "colab": {}
      },
      "source": [
        "# bst = xgboost.train(param, dtrain, num_round)\n",
        "bst = xgboost.train(params.items(), dtrain, num_rounds)"
      ],
      "execution_count": 128,
      "outputs": []
    },
    {
      "cell_type": "code",
      "metadata": {
        "id": "s7x1SX6jT8LS",
        "colab_type": "code",
        "colab": {
          "base_uri": "https://localhost:8080/",
          "height": 34
        },
        "outputId": "676337b4-865d-437e-c7a7-c4986b3e137f"
      },
      "source": [
        "from sklearn.metrics import r2_score\n",
        "r2_score(Ytest,bst.predict(dtest))"
      ],
      "execution_count": 129,
      "outputs": [
        {
          "output_type": "execute_result",
          "data": {
            "text/plain": [
              "0.6179517049101015"
            ]
          },
          "metadata": {
            "tags": []
          },
          "execution_count": 129
        }
      ]
    },
    {
      "cell_type": "code",
      "metadata": {
        "id": "P8gHywriUQ3k",
        "colab_type": "code",
        "colab": {
          "base_uri": "https://localhost:8080/",
          "height": 34
        },
        "outputId": "b4b7ebc1-5f94-4023-8bb0-283ac66d3ee2"
      },
      "source": [
        "from sklearn.metrics import mean_squared_error as MSE\n",
        "from math import sqrt\n",
        "sqrt(MSE(Ytest,bst.predict(dtest)))"
      ],
      "execution_count": 130,
      "outputs": [
        {
          "output_type": "execute_result",
          "data": {
            "text/plain": [
              "1790725.9595091494"
            ]
          },
          "metadata": {
            "tags": []
          },
          "execution_count": 130
        }
      ]
    }
  ]
}