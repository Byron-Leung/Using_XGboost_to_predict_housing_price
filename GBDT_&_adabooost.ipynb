{
  "nbformat": 4,
  "nbformat_minor": 0,
  "metadata": {
    "colab": {
      "name": "GBDT & adabooost.ipynb",
      "provenance": [],
      "collapsed_sections": [],
      "authorship_tag": "ABX9TyODEqGMRkkfTYTe7hkisO0C",
      "include_colab_link": true
    },
    "kernelspec": {
      "name": "python3",
      "display_name": "Python 3"
    },
    "accelerator": "GPU"
  },
  "cells": [
    {
      "cell_type": "markdown",
      "metadata": {
        "id": "view-in-github",
        "colab_type": "text"
      },
      "source": [
        "<a href=\"https://colab.research.google.com/github/Byron-Leung/Using_XGboost_to_predict_housing_price/blob/master/GBDT_%26_adabooost.ipynb\" target=\"_parent\"><img src=\"https://colab.research.google.com/assets/colab-badge.svg\" alt=\"Open In Colab\"/></a>"
      ]
    },
    {
      "cell_type": "code",
      "metadata": {
        "id": "5PvwOJsjVkTU"
      },
      "source": [
        "import pandas as pd\n",
        "import numpy as np\n",
        "import matplotlib.pyplot as plt\n",
        "import seaborn as sns\n",
        "from xgboost import XGBRegressor\n",
        "from xgboost import DMatrix\n",
        "import xgboost \n",
        "from sklearn.metrics import accuracy_score"
      ],
      "execution_count": null,
      "outputs": []
    },
    {
      "cell_type": "code",
      "metadata": {
        "id": "gtpDZ6MFWLos",
        "outputId": "ec8c2c23-d307-4abb-e6e0-229ab02be9a2",
        "colab": {
          "base_uri": "https://localhost:8080/",
          "height": 34
        }
      },
      "source": [
        "import os\n",
        "import tarfile\n",
        "from google.colab import drive\n",
        "drive.mount('/content/gdrive/')"
      ],
      "execution_count": null,
      "outputs": [
        {
          "output_type": "stream",
          "text": [
            "Mounted at /content/gdrive/\n"
          ],
          "name": "stdout"
        }
      ]
    },
    {
      "cell_type": "code",
      "metadata": {
        "id": "4lPTUJzRhAuQ"
      },
      "source": [
        "Xtrain = pd.read_csv('gdrive/My Drive/毕业设计/Xtrain1.csv')\n",
        "Xtest = pd.read_csv('gdrive/My Drive/毕业设计/Xtest1.csv')\n",
        "Ytrain = pd.read_csv('gdrive/My Drive/毕业设计/Ytrain1.csv')\n",
        "Ytest = pd.read_csv('gdrive/My Drive/毕业设计/Ytest1.csv')"
      ],
      "execution_count": null,
      "outputs": []
    },
    {
      "cell_type": "code",
      "metadata": {
        "id": "yRUfXwgHBa58",
        "outputId": "0490a2e7-aaf3-4d5b-f6f2-b1951ecc8697",
        "colab": {
          "base_uri": "https://localhost:8080/",
          "height": 34
        }
      },
      "source": [
        "Xtrain.shape"
      ],
      "execution_count": null,
      "outputs": [
        {
          "output_type": "execute_result",
          "data": {
            "text/plain": [
              "(195155, 50)"
            ]
          },
          "metadata": {
            "tags": []
          },
          "execution_count": 5
        }
      ]
    },
    {
      "cell_type": "code",
      "metadata": {
        "id": "3GqpQvjpBchW",
        "outputId": "baf773e3-b128-43a9-9986-d7244c1ad53e",
        "colab": {
          "base_uri": "https://localhost:8080/",
          "height": 34
        }
      },
      "source": [
        "Ytrain.shape"
      ],
      "execution_count": null,
      "outputs": [
        {
          "output_type": "execute_result",
          "data": {
            "text/plain": [
              "(195155, 2)"
            ]
          },
          "metadata": {
            "tags": []
          },
          "execution_count": 4
        }
      ]
    },
    {
      "cell_type": "code",
      "metadata": {
        "id": "yGWKT0oay6GK",
        "outputId": "4c262414-f301-4484-c489-3118a0d4c6cb",
        "colab": {
          "base_uri": "https://localhost:8080/",
          "height": 142
        }
      },
      "source": [
        "Ytest.head(3)"
      ],
      "execution_count": null,
      "outputs": [
        {
          "output_type": "execute_result",
          "data": {
            "text/html": [
              "<div>\n",
              "<style scoped>\n",
              "    .dataframe tbody tr th:only-of-type {\n",
              "        vertical-align: middle;\n",
              "    }\n",
              "\n",
              "    .dataframe tbody tr th {\n",
              "        vertical-align: top;\n",
              "    }\n",
              "\n",
              "    .dataframe thead th {\n",
              "        text-align: right;\n",
              "    }\n",
              "</style>\n",
              "<table border=\"1\" class=\"dataframe\">\n",
              "  <thead>\n",
              "    <tr style=\"text-align: right;\">\n",
              "      <th></th>\n",
              "      <th>Unnamed: 0</th>\n",
              "      <th>sale_price</th>\n",
              "    </tr>\n",
              "  </thead>\n",
              "  <tbody>\n",
              "    <tr>\n",
              "      <th>0</th>\n",
              "      <td>0</td>\n",
              "      <td>680000.0</td>\n",
              "    </tr>\n",
              "    <tr>\n",
              "      <th>1</th>\n",
              "      <td>1</td>\n",
              "      <td>465000.0</td>\n",
              "    </tr>\n",
              "    <tr>\n",
              "      <th>2</th>\n",
              "      <td>2</td>\n",
              "      <td>421680.0</td>\n",
              "    </tr>\n",
              "  </tbody>\n",
              "</table>\n",
              "</div>"
            ],
            "text/plain": [
              "   Unnamed: 0  sale_price\n",
              "0           0    680000.0\n",
              "1           1    465000.0\n",
              "2           2    421680.0"
            ]
          },
          "metadata": {
            "tags": []
          },
          "execution_count": 6
        }
      ]
    },
    {
      "cell_type": "code",
      "metadata": {
        "id": "jju3SZsNzkTj",
        "outputId": "3ff7c9ba-7f95-4eda-908b-fdf12bf222d8",
        "colab": {
          "base_uri": "https://localhost:8080/",
          "height": 179
        }
      },
      "source": [
        "Xtrain.head(3)"
      ],
      "execution_count": null,
      "outputs": [
        {
          "output_type": "execute_result",
          "data": {
            "text/html": [
              "<div>\n",
              "<style scoped>\n",
              "    .dataframe tbody tr th:only-of-type {\n",
              "        vertical-align: middle;\n",
              "    }\n",
              "\n",
              "    .dataframe tbody tr th {\n",
              "        vertical-align: top;\n",
              "    }\n",
              "\n",
              "    .dataframe thead th {\n",
              "        text-align: right;\n",
              "    }\n",
              "</style>\n",
              "<table border=\"1\" class=\"dataframe\">\n",
              "  <thead>\n",
              "    <tr style=\"text-align: right;\">\n",
              "      <th></th>\n",
              "      <th>Unnamed: 0</th>\n",
              "      <th>Unnamed: 0.1</th>\n",
              "      <th>price_range</th>\n",
              "      <th>block</th>\n",
              "      <th>sale_date</th>\n",
              "      <th>OfficeArea</th>\n",
              "      <th>address</th>\n",
              "      <th>AssessLand</th>\n",
              "      <th>year_built</th>\n",
              "      <th>gross_sqft</th>\n",
              "      <th>AssessTot</th>\n",
              "      <th>building_class_at_sale</th>\n",
              "      <th>building_class</th>\n",
              "      <th>lot</th>\n",
              "      <th>zip_code</th>\n",
              "      <th>ExemptLand</th>\n",
              "      <th>land_sqft</th>\n",
              "      <th>neighborhood</th>\n",
              "      <th>LotDepth</th>\n",
              "      <th>LotFront</th>\n",
              "      <th>ComArea</th>\n",
              "      <th>YCoord</th>\n",
              "      <th>BuiltFAR</th>\n",
              "      <th>total_units</th>\n",
              "      <th>XCoord</th>\n",
              "      <th>APPBBL</th>\n",
              "      <th>BldgFront</th>\n",
              "      <th>commercial_units</th>\n",
              "      <th>CT2010</th>\n",
              "      <th>NumFloors</th>\n",
              "      <th>NumBldgs</th>\n",
              "      <th>FireComp</th>\n",
              "      <th>tax_class_at_sale</th>\n",
              "      <th>ResArea</th>\n",
              "      <th>BldgDepth</th>\n",
              "      <th>SchoolDist</th>\n",
              "      <th>Tract2010</th>\n",
              "      <th>LandUse</th>\n",
              "      <th>tax_class</th>\n",
              "      <th>HealthArea</th>\n",
              "      <th>CB2010</th>\n",
              "      <th>YearAlter1</th>\n",
              "      <th>residential_units</th>\n",
              "      <th>LotArea</th>\n",
              "      <th>ResidFAR</th>\n",
              "      <th>FacilFAR</th>\n",
              "      <th>PolicePrct</th>\n",
              "      <th>ExemptTot</th>\n",
              "      <th>SanitDistr</th>\n",
              "      <th>RetailArea</th>\n",
              "    </tr>\n",
              "  </thead>\n",
              "  <tbody>\n",
              "    <tr>\n",
              "      <th>0</th>\n",
              "      <td>0</td>\n",
              "      <td>0</td>\n",
              "      <td>3.0</td>\n",
              "      <td>7892</td>\n",
              "      <td>1190.0</td>\n",
              "      <td>0.0</td>\n",
              "      <td>51150.0</td>\n",
              "      <td>6869.0</td>\n",
              "      <td>1920</td>\n",
              "      <td>1352.0</td>\n",
              "      <td>25795.0</td>\n",
              "      <td>1.0</td>\n",
              "      <td>1.0</td>\n",
              "      <td>38</td>\n",
              "      <td>11234</td>\n",
              "      <td>6869.0</td>\n",
              "      <td>2000.0</td>\n",
              "      <td>48.0</td>\n",
              "      <td>100.0</td>\n",
              "      <td>20.0</td>\n",
              "      <td>0.0</td>\n",
              "      <td>164558.0</td>\n",
              "      <td>0.68</td>\n",
              "      <td>1</td>\n",
              "      <td>1003844.0</td>\n",
              "      <td>0.0</td>\n",
              "      <td>16.0</td>\n",
              "      <td>0</td>\n",
              "      <td>674.00</td>\n",
              "      <td>2.0</td>\n",
              "      <td>2.0</td>\n",
              "      <td>54.0</td>\n",
              "      <td>1</td>\n",
              "      <td>1352.0</td>\n",
              "      <td>38.0</td>\n",
              "      <td>22.0</td>\n",
              "      <td>674.0</td>\n",
              "      <td>1.0</td>\n",
              "      <td>0.0</td>\n",
              "      <td>8822.0</td>\n",
              "      <td>1002.0</td>\n",
              "      <td>0.0</td>\n",
              "      <td>1</td>\n",
              "      <td>2000.0</td>\n",
              "      <td>0.60</td>\n",
              "      <td>1.0</td>\n",
              "      <td>63.0</td>\n",
              "      <td>8539.0</td>\n",
              "      <td>18.0</td>\n",
              "      <td>0.0</td>\n",
              "    </tr>\n",
              "    <tr>\n",
              "      <th>1</th>\n",
              "      <td>1</td>\n",
              "      <td>1</td>\n",
              "      <td>3.0</td>\n",
              "      <td>242</td>\n",
              "      <td>592.0</td>\n",
              "      <td>0.0</td>\n",
              "      <td>2903.0</td>\n",
              "      <td>398250.0</td>\n",
              "      <td>1900</td>\n",
              "      <td>0.0</td>\n",
              "      <td>2033100.0</td>\n",
              "      <td>27.0</td>\n",
              "      <td>26.0</td>\n",
              "      <td>12</td>\n",
              "      <td>11201</td>\n",
              "      <td>23600.0</td>\n",
              "      <td>0.0</td>\n",
              "      <td>9.0</td>\n",
              "      <td>100.0</td>\n",
              "      <td>51.0</td>\n",
              "      <td>760.0</td>\n",
              "      <td>192591.0</td>\n",
              "      <td>7.60</td>\n",
              "      <td>0</td>\n",
              "      <td>985551.0</td>\n",
              "      <td>0.0</td>\n",
              "      <td>51.0</td>\n",
              "      <td>0</td>\n",
              "      <td>5.01</td>\n",
              "      <td>8.0</td>\n",
              "      <td>1.0</td>\n",
              "      <td>2.0</td>\n",
              "      <td>2</td>\n",
              "      <td>38000.0</td>\n",
              "      <td>95.0</td>\n",
              "      <td>13.0</td>\n",
              "      <td>501.0</td>\n",
              "      <td>3.0</td>\n",
              "      <td>4.0</td>\n",
              "      <td>2300.0</td>\n",
              "      <td>2001.0</td>\n",
              "      <td>1981.0</td>\n",
              "      <td>0</td>\n",
              "      <td>5100.0</td>\n",
              "      <td>3.44</td>\n",
              "      <td>4.8</td>\n",
              "      <td>84.0</td>\n",
              "      <td>23600.0</td>\n",
              "      <td>2.0</td>\n",
              "      <td>760.0</td>\n",
              "    </tr>\n",
              "    <tr>\n",
              "      <th>2</th>\n",
              "      <td>2</td>\n",
              "      <td>2</td>\n",
              "      <td>5.0</td>\n",
              "      <td>5552</td>\n",
              "      <td>514.0</td>\n",
              "      <td>0.0</td>\n",
              "      <td>31954.0</td>\n",
              "      <td>61179.0</td>\n",
              "      <td>1931</td>\n",
              "      <td>3520.0</td>\n",
              "      <td>98694.0</td>\n",
              "      <td>16.0</td>\n",
              "      <td>15.0</td>\n",
              "      <td>59</td>\n",
              "      <td>11204</td>\n",
              "      <td>0.0</td>\n",
              "      <td>2650.0</td>\n",
              "      <td>4.0</td>\n",
              "      <td>100.0</td>\n",
              "      <td>26.5</td>\n",
              "      <td>0.0</td>\n",
              "      <td>165368.0</td>\n",
              "      <td>1.33</td>\n",
              "      <td>4</td>\n",
              "      <td>985991.0</td>\n",
              "      <td>0.0</td>\n",
              "      <td>22.0</td>\n",
              "      <td>0</td>\n",
              "      <td>252.00</td>\n",
              "      <td>2.0</td>\n",
              "      <td>1.0</td>\n",
              "      <td>96.0</td>\n",
              "      <td>2</td>\n",
              "      <td>3520.0</td>\n",
              "      <td>80.0</td>\n",
              "      <td>20.0</td>\n",
              "      <td>252.0</td>\n",
              "      <td>2.0</td>\n",
              "      <td>5.0</td>\n",
              "      <td>8120.0</td>\n",
              "      <td>3000.0</td>\n",
              "      <td>2009.0</td>\n",
              "      <td>4</td>\n",
              "      <td>2650.0</td>\n",
              "      <td>1.25</td>\n",
              "      <td>2.0</td>\n",
              "      <td>62.0</td>\n",
              "      <td>0.0</td>\n",
              "      <td>11.0</td>\n",
              "      <td>0.0</td>\n",
              "    </tr>\n",
              "  </tbody>\n",
              "</table>\n",
              "</div>"
            ],
            "text/plain": [
              "   Unnamed: 0  Unnamed: 0.1  price_range  ...  ExemptTot  SanitDistr  RetailArea\n",
              "0           0             0          3.0  ...     8539.0        18.0         0.0\n",
              "1           1             1          3.0  ...    23600.0         2.0       760.0\n",
              "2           2             2          5.0  ...        0.0        11.0         0.0\n",
              "\n",
              "[3 rows x 50 columns]"
            ]
          },
          "metadata": {
            "tags": []
          },
          "execution_count": 7
        }
      ]
    },
    {
      "cell_type": "code",
      "metadata": {
        "id": "8SBmC2e3y9V0"
      },
      "source": [
        "Xtrain.drop(columns= ['Unnamed: 0','Unnamed: 0.1'],inplace = True)\n",
        "Xtest.drop(columns= ['Unnamed: 0','Unnamed: 0.1'],inplace = True)\n",
        "Ytrain.drop(columns= ['Unnamed: 0'],inplace = True)\n",
        "Ytest.drop(columns= ['Unnamed: 0'],inplace = True)"
      ],
      "execution_count": null,
      "outputs": []
    },
    {
      "cell_type": "code",
      "metadata": {
        "id": "tSTaAhAr-Bnv"
      },
      "source": [
        "from sklearn.ensemble import GradientBoostingRegressor"
      ],
      "execution_count": null,
      "outputs": []
    },
    {
      "cell_type": "code",
      "metadata": {
        "id": "miELXYk3-T-G"
      },
      "source": [
        "params1 = {'n_estimators':100 , 'learning_rate' : 0.2 , 'subsample': 0.8 ,'criterion':'mse'}\n",
        "num_rounds = 500"
      ],
      "execution_count": null,
      "outputs": []
    },
    {
      "cell_type": "code",
      "metadata": {
        "id": "Crz-k_4wBMaq",
        "outputId": "95159de1-788a-485d-8211-28368fc33349",
        "colab": {
          "base_uri": "https://localhost:8080/",
          "height": 34
        }
      },
      "source": [
        "Xtrain.shape"
      ],
      "execution_count": null,
      "outputs": [
        {
          "output_type": "execute_result",
          "data": {
            "text/plain": [
              "(195155, 48)"
            ]
          },
          "metadata": {
            "tags": []
          },
          "execution_count": 11
        }
      ]
    },
    {
      "cell_type": "code",
      "metadata": {
        "id": "lNeucX-bBPTs",
        "outputId": "58e52b4c-7ed4-4578-aafc-5861ae3dece8",
        "colab": {
          "base_uri": "https://localhost:8080/",
          "height": 34
        }
      },
      "source": [
        "Ytrain.shape"
      ],
      "execution_count": null,
      "outputs": [
        {
          "output_type": "execute_result",
          "data": {
            "text/plain": [
              "(195155, 1)"
            ]
          },
          "metadata": {
            "tags": []
          },
          "execution_count": 12
        }
      ]
    },
    {
      "cell_type": "code",
      "metadata": {
        "id": "x-ktFH5u_JYB",
        "outputId": "fe63d195-ba7e-4a21-c9db-f588622b91d5",
        "colab": {
          "base_uri": "https://localhost:8080/",
          "height": 224
        }
      },
      "source": [
        "gbreg = GradientBoostingRegressor(**params1)\n",
        "gbreg.fit(Xtrain,Ytrain)"
      ],
      "execution_count": null,
      "outputs": [
        {
          "output_type": "stream",
          "text": [
            "/usr/local/lib/python3.6/dist-packages/sklearn/ensemble/_gb.py:1454: DataConversionWarning: A column-vector y was passed when a 1d array was expected. Please change the shape of y to (n_samples, ), for example using ravel().\n",
            "  y = column_or_1d(y, warn=True)\n"
          ],
          "name": "stderr"
        },
        {
          "output_type": "execute_result",
          "data": {
            "text/plain": [
              "GradientBoostingRegressor(alpha=0.9, ccp_alpha=0.0, criterion='mse', init=None,\n",
              "                          learning_rate=0.2, loss='ls', max_depth=3,\n",
              "                          max_features=None, max_leaf_nodes=None,\n",
              "                          min_impurity_decrease=0.0, min_impurity_split=None,\n",
              "                          min_samples_leaf=1, min_samples_split=2,\n",
              "                          min_weight_fraction_leaf=0.0, n_estimators=100,\n",
              "                          n_iter_no_change=None, presort='deprecated',\n",
              "                          random_state=None, subsample=0.8, tol=0.0001,\n",
              "                          validation_fraction=0.1, verbose=0, warm_start=False)"
            ]
          },
          "metadata": {
            "tags": []
          },
          "execution_count": 28
        }
      ]
    },
    {
      "cell_type": "code",
      "metadata": {
        "id": "1FozgA620NEx",
        "outputId": "fc4ee25b-24d1-42da-f666-c21074f1e05c",
        "colab": {
          "base_uri": "https://localhost:8080/",
          "height": 34
        }
      },
      "source": [
        "gbreg.score(Xtest,Ytest)"
      ],
      "execution_count": null,
      "outputs": [
        {
          "output_type": "execute_result",
          "data": {
            "text/plain": [
              "0.5440267674747096"
            ]
          },
          "metadata": {
            "tags": []
          },
          "execution_count": 29
        }
      ]
    },
    {
      "cell_type": "code",
      "metadata": {
        "id": "LFjDNZSW1ux6",
        "outputId": "ea134a34-b03e-49af-f736-ff30812a1ec8",
        "colab": {
          "base_uri": "https://localhost:8080/",
          "height": 34
        }
      },
      "source": [
        "from sklearn.metrics import mean_squared_error as MSE\n",
        "from math import sqrt\n",
        "sqrt(MSE(Ytest,gbreg.predict(Xtest)))"
      ],
      "execution_count": null,
      "outputs": [
        {
          "output_type": "execute_result",
          "data": {
            "text/plain": [
              "1971741.5173300789"
            ]
          },
          "metadata": {
            "tags": []
          },
          "execution_count": 30
        }
      ]
    },
    {
      "cell_type": "code",
      "metadata": {
        "id": "bMM92gTxj7Th"
      },
      "source": [
        "from sklearn.ensemble import AdaBoostRegressor\n",
        "from sklearn import tree\n",
        "from sklearn.model_selection import GridSearchCV\n",
        "import numpy as np\n",
        "import pandas as pd\n",
        "from sklearn.model_selection import cross_val_score\n",
        "from sklearn.model_selection import train_test_split\n",
        "from sklearn.model_selection import KFold\n",
        "from sklearn.metrics import mean_squared_error\n",
        "from sklearn.datasets import make_regression"
      ],
      "execution_count": null,
      "outputs": []
    },
    {
      "cell_type": "code",
      "metadata": {
        "id": "fKypzu02RELC",
        "outputId": "a0f08a2d-eb7b-4309-8c9d-bf7f0107c5dd",
        "colab": {
          "base_uri": "https://localhost:8080/",
          "height": 88
        }
      },
      "source": [
        "from sklearn.datasets import make_regression\n",
        "regr = AdaBoostRegressor(random_state=0, n_estimators=100 , learning_rate = 0.2 , loss = 'square')\n",
        "regr.fit(Xtrain,Ytrain)\n",
        "AdaBoostRegressor(n_estimators=1000, learning_rate = 0.05)\n",
        "regr.score(Xtrain,Ytrain)"
      ],
      "execution_count": null,
      "outputs": [
        {
          "output_type": "stream",
          "text": [
            "/usr/local/lib/python3.6/dist-packages/sklearn/utils/validation.py:760: DataConversionWarning: A column-vector y was passed when a 1d array was expected. Please change the shape of y to (n_samples, ), for example using ravel().\n",
            "  y = column_or_1d(y, warn=True)\n"
          ],
          "name": "stderr"
        },
        {
          "output_type": "execute_result",
          "data": {
            "text/plain": [
              "0.6147556342513627"
            ]
          },
          "metadata": {
            "tags": []
          },
          "execution_count": 25
        }
      ]
    },
    {
      "cell_type": "code",
      "metadata": {
        "id": "y0crX5-TSErf",
        "outputId": "775fe5a2-8dfa-43ad-9b48-6f7762dcf44c",
        "colab": {
          "base_uri": "https://localhost:8080/",
          "height": 34
        }
      },
      "source": [
        "sqrt(MSE(Ytest,regr.predict(Xtest)))"
      ],
      "execution_count": null,
      "outputs": [
        {
          "output_type": "execute_result",
          "data": {
            "text/plain": [
              "2788662.6453612926"
            ]
          },
          "metadata": {
            "tags": []
          },
          "execution_count": 26
        }
      ]
    }
  ]
}